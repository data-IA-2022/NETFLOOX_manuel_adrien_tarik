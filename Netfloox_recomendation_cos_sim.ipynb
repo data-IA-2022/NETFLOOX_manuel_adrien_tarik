{
 "cells": [
  {
   "cell_type": "markdown",
   "id": "82d94ca9",
   "metadata": {},
   "source": [
    "# Projet netfloox creation du modèle de recommendation\n"
   ]
  },
  {
   "cell_type": "code",
   "execution_count": 21,
   "id": "7a3c3a1f",
   "metadata": {},
   "outputs": [
    {
     "data": {
      "text/html": [
       "<div>\n",
       "<style scoped>\n",
       "    .dataframe tbody tr th:only-of-type {\n",
       "        vertical-align: middle;\n",
       "    }\n",
       "\n",
       "    .dataframe tbody tr th {\n",
       "        vertical-align: top;\n",
       "    }\n",
       "\n",
       "    .dataframe thead th {\n",
       "        text-align: right;\n",
       "    }\n",
       "</style>\n",
       "<table border=\"1\" class=\"dataframe\">\n",
       "  <thead>\n",
       "    <tr style=\"text-align: right;\">\n",
       "      <th></th>\n",
       "      <th>tconst</th>\n",
       "      <th>nconst</th>\n",
       "      <th>category</th>\n",
       "    </tr>\n",
       "  </thead>\n",
       "  <tbody>\n",
       "    <tr>\n",
       "      <th>1</th>\n",
       "      <td>tt0000001</td>\n",
       "      <td>nm0005690</td>\n",
       "      <td>director</td>\n",
       "    </tr>\n",
       "    <tr>\n",
       "      <th>3</th>\n",
       "      <td>tt0000002</td>\n",
       "      <td>nm0721526</td>\n",
       "      <td>director</td>\n",
       "    </tr>\n",
       "    <tr>\n",
       "      <th>4</th>\n",
       "      <td>tt0000002</td>\n",
       "      <td>nm1335271</td>\n",
       "      <td>composer</td>\n",
       "    </tr>\n",
       "    <tr>\n",
       "      <th>5</th>\n",
       "      <td>tt0000003</td>\n",
       "      <td>nm0721526</td>\n",
       "      <td>director</td>\n",
       "    </tr>\n",
       "    <tr>\n",
       "      <th>7</th>\n",
       "      <td>tt0000003</td>\n",
       "      <td>nm1335271</td>\n",
       "      <td>composer</td>\n",
       "    </tr>\n",
       "  </tbody>\n",
       "</table>\n",
       "</div>"
      ],
      "text/plain": [
       "      tconst     nconst  category\n",
       "1  tt0000001  nm0005690  director\n",
       "3  tt0000002  nm0721526  director\n",
       "4  tt0000002  nm1335271  composer\n",
       "5  tt0000003  nm0721526  director\n",
       "7  tt0000003  nm1335271  composer"
      ]
     },
     "execution_count": 21,
     "metadata": {},
     "output_type": "execute_result"
    }
   ],
   "source": [
    "# Load data\n",
    "import pandas as pd\n",
    "url = \"https://datasets.imdbws.com/title.principals.tsv.gz\"\n",
    "df_principals = pd.read_csv(url,delimiter='\\t',dtype='str',na_values=['NaN','\\\\N','N'], usecols=[\"tconst\",\"nconst\",\"category\"]).query('category in (\"actor\",\"actress\",\"director\",\"composer\")')#.iloc[:200000]\n",
    "df_principals.head(5)"
   ]
  },
  {
   "cell_type": "code",
   "execution_count": 22,
   "id": "ab2483c2",
   "metadata": {},
   "outputs": [
    {
     "data": {
      "text/html": [
       "<div>\n",
       "<style scoped>\n",
       "    .dataframe tbody tr th:only-of-type {\n",
       "        vertical-align: middle;\n",
       "    }\n",
       "\n",
       "    .dataframe tbody tr th {\n",
       "        vertical-align: top;\n",
       "    }\n",
       "\n",
       "    .dataframe thead th {\n",
       "        text-align: right;\n",
       "    }\n",
       "</style>\n",
       "<table border=\"1\" class=\"dataframe\">\n",
       "  <thead>\n",
       "    <tr style=\"text-align: right;\">\n",
       "      <th>category</th>\n",
       "      <th>actor</th>\n",
       "      <th>actress</th>\n",
       "      <th>composer</th>\n",
       "      <th>director</th>\n",
       "    </tr>\n",
       "    <tr>\n",
       "      <th>tconst</th>\n",
       "      <th></th>\n",
       "      <th></th>\n",
       "      <th></th>\n",
       "      <th></th>\n",
       "    </tr>\n",
       "  </thead>\n",
       "  <tbody>\n",
       "    <tr>\n",
       "      <th>tt0000001</th>\n",
       "      <td></td>\n",
       "      <td></td>\n",
       "      <td></td>\n",
       "      <td>nm0005690</td>\n",
       "    </tr>\n",
       "    <tr>\n",
       "      <th>tt0000002</th>\n",
       "      <td></td>\n",
       "      <td></td>\n",
       "      <td>nm1335271</td>\n",
       "      <td>nm0721526</td>\n",
       "    </tr>\n",
       "    <tr>\n",
       "      <th>tt0000003</th>\n",
       "      <td></td>\n",
       "      <td></td>\n",
       "      <td>nm1335271</td>\n",
       "      <td>nm0721526</td>\n",
       "    </tr>\n",
       "    <tr>\n",
       "      <th>tt0000004</th>\n",
       "      <td></td>\n",
       "      <td></td>\n",
       "      <td>nm1335271</td>\n",
       "      <td>nm0721526</td>\n",
       "    </tr>\n",
       "    <tr>\n",
       "      <th>tt0000005</th>\n",
       "      <td>nm0443482,nm0653042</td>\n",
       "      <td></td>\n",
       "      <td></td>\n",
       "      <td>nm0005690</td>\n",
       "    </tr>\n",
       "  </tbody>\n",
       "</table>\n",
       "</div>"
      ],
      "text/plain": [
       "category                 actor actress   composer   director\n",
       "tconst                                                      \n",
       "tt0000001                                          nm0005690\n",
       "tt0000002                               nm1335271  nm0721526\n",
       "tt0000003                               nm1335271  nm0721526\n",
       "tt0000004                               nm1335271  nm0721526\n",
       "tt0000005  nm0443482,nm0653042                     nm0005690"
      ]
     },
     "execution_count": 22,
     "metadata": {},
     "output_type": "execute_result"
    }
   ],
   "source": [
    "#Tout raporter à laa maille film cela implique un pivot de la table avec index tconst les catégories auront chacunes leurs colonnes\n",
    "\n",
    "principals = pd.pivot_table(df_principals, index=['tconst'], values='nconst',columns= 'category',\n",
    "                      aggfunc=lambda x: ','.join(x), fill_value='')\n",
    "principals.head(5)"
   ]
  },
  {
   "cell_type": "code",
   "execution_count": 23,
   "id": "a9add389",
   "metadata": {},
   "outputs": [
    {
     "data": {
      "text/html": [
       "<div>\n",
       "<style scoped>\n",
       "    .dataframe tbody tr th:only-of-type {\n",
       "        vertical-align: middle;\n",
       "    }\n",
       "\n",
       "    .dataframe tbody tr th {\n",
       "        vertical-align: top;\n",
       "    }\n",
       "\n",
       "    .dataframe thead th {\n",
       "        text-align: right;\n",
       "    }\n",
       "</style>\n",
       "<table border=\"1\" class=\"dataframe\">\n",
       "  <thead>\n",
       "    <tr style=\"text-align: right;\">\n",
       "      <th></th>\n",
       "      <th>tconst</th>\n",
       "      <th>titleType</th>\n",
       "      <th>originalTitle</th>\n",
       "      <th>isAdult</th>\n",
       "      <th>startYear</th>\n",
       "      <th>runtimeMinutes</th>\n",
       "      <th>genres</th>\n",
       "    </tr>\n",
       "  </thead>\n",
       "  <tbody>\n",
       "    <tr>\n",
       "      <th>8</th>\n",
       "      <td>tt0000009</td>\n",
       "      <td>movie</td>\n",
       "      <td>Miss Jerry</td>\n",
       "      <td>0</td>\n",
       "      <td>1894</td>\n",
       "      <td>45</td>\n",
       "      <td>Romance</td>\n",
       "    </tr>\n",
       "    <tr>\n",
       "      <th>144</th>\n",
       "      <td>tt0000147</td>\n",
       "      <td>movie</td>\n",
       "      <td>The Corbett-Fitzsimmons Fight</td>\n",
       "      <td>0</td>\n",
       "      <td>1897</td>\n",
       "      <td>100</td>\n",
       "      <td>Documentary,News,Sport</td>\n",
       "    </tr>\n",
       "    <tr>\n",
       "      <th>498</th>\n",
       "      <td>tt0000502</td>\n",
       "      <td>movie</td>\n",
       "      <td>Bohemios</td>\n",
       "      <td>0</td>\n",
       "      <td>1905</td>\n",
       "      <td>100</td>\n",
       "      <td></td>\n",
       "    </tr>\n",
       "    <tr>\n",
       "      <th>570</th>\n",
       "      <td>tt0000574</td>\n",
       "      <td>movie</td>\n",
       "      <td>The Story of the Kelly Gang</td>\n",
       "      <td>0</td>\n",
       "      <td>1906</td>\n",
       "      <td>70</td>\n",
       "      <td>Action,Adventure,Biography</td>\n",
       "    </tr>\n",
       "    <tr>\n",
       "      <th>587</th>\n",
       "      <td>tt0000591</td>\n",
       "      <td>movie</td>\n",
       "      <td>L'enfant prodigue</td>\n",
       "      <td>0</td>\n",
       "      <td>1907</td>\n",
       "      <td>90</td>\n",
       "      <td>Drama</td>\n",
       "    </tr>\n",
       "  </tbody>\n",
       "</table>\n",
       "</div>"
      ],
      "text/plain": [
       "        tconst titleType                  originalTitle isAdult startYear  \\\n",
       "8    tt0000009     movie                     Miss Jerry       0      1894   \n",
       "144  tt0000147     movie  The Corbett-Fitzsimmons Fight       0      1897   \n",
       "498  tt0000502     movie                       Bohemios       0      1905   \n",
       "570  tt0000574     movie    The Story of the Kelly Gang       0      1906   \n",
       "587  tt0000591     movie              L'enfant prodigue       0      1907   \n",
       "\n",
       "    runtimeMinutes                      genres  \n",
       "8               45                     Romance  \n",
       "144            100      Documentary,News,Sport  \n",
       "498            100                              \n",
       "570             70  Action,Adventure,Biography  \n",
       "587             90                       Drama  "
      ]
     },
     "execution_count": 23,
     "metadata": {},
     "output_type": "execute_result"
    }
   ],
   "source": [
    "#On ajoute les données title_basics\n",
    "url = \"https://datasets.imdbws.com/title.basics.tsv.gz\"\n",
    "df_film = pd.read_csv(url,delimiter='\\t',dtype='str',na_values=['NaN','\\\\N','N'], usecols=[\"tconst\",\"originalTitle\",\"startYear\",\"runtimeMinutes\",\"genres\",\"isAdult\",\"titleType\"]).query('titleType in (\"movie\")')#.iloc[:200000]\n",
    "df_film.fillna(\"\", inplace = True)\n",
    "df_film.head(5)"
   ]
  },
  {
   "cell_type": "code",
   "execution_count": 24,
   "id": "5c3e3324",
   "metadata": {},
   "outputs": [
    {
     "data": {
      "text/plain": [
       "635637"
      ]
     },
     "execution_count": 24,
     "metadata": {},
     "output_type": "execute_result"
    }
   ],
   "source": [
    "#\n",
    "df_film['tconst'].nunique()"
   ]
  },
  {
   "cell_type": "code",
   "execution_count": 25,
   "id": "4014c9ea",
   "metadata": {},
   "outputs": [
    {
     "data": {
      "text/plain": [
       "6684051"
      ]
     },
     "execution_count": 25,
     "metadata": {},
     "output_type": "execute_result"
    }
   ],
   "source": [
    "#Join des tables sur le tconst en s'assurant qu'il soit unique\n",
    "principals.index.nunique()"
   ]
  },
  {
   "cell_type": "code",
   "execution_count": 26,
   "id": "4a493f97",
   "metadata": {},
   "outputs": [
    {
     "data": {
      "text/html": [
       "<div>\n",
       "<style scoped>\n",
       "    .dataframe tbody tr th:only-of-type {\n",
       "        vertical-align: middle;\n",
       "    }\n",
       "\n",
       "    .dataframe tbody tr th {\n",
       "        vertical-align: top;\n",
       "    }\n",
       "\n",
       "    .dataframe thead th {\n",
       "        text-align: right;\n",
       "    }\n",
       "</style>\n",
       "<table border=\"1\" class=\"dataframe\">\n",
       "  <thead>\n",
       "    <tr style=\"text-align: right;\">\n",
       "      <th></th>\n",
       "      <th>tconst</th>\n",
       "      <th>actor</th>\n",
       "      <th>actress</th>\n",
       "      <th>composer</th>\n",
       "      <th>director</th>\n",
       "      <th>titleType</th>\n",
       "      <th>originalTitle</th>\n",
       "      <th>isAdult</th>\n",
       "      <th>startYear</th>\n",
       "      <th>runtimeMinutes</th>\n",
       "      <th>genres</th>\n",
       "    </tr>\n",
       "  </thead>\n",
       "  <tbody>\n",
       "    <tr>\n",
       "      <th>0</th>\n",
       "      <td>tt0000009</td>\n",
       "      <td>nm0183823,nm1309758</td>\n",
       "      <td>nm0063086</td>\n",
       "      <td></td>\n",
       "      <td>nm0085156</td>\n",
       "      <td>movie</td>\n",
       "      <td>Miss Jerry</td>\n",
       "      <td>0</td>\n",
       "      <td>1894</td>\n",
       "      <td>45</td>\n",
       "      <td>Romance</td>\n",
       "    </tr>\n",
       "    <tr>\n",
       "      <th>1</th>\n",
       "      <td>tt0000147</td>\n",
       "      <td></td>\n",
       "      <td></td>\n",
       "      <td></td>\n",
       "      <td>nm0714557</td>\n",
       "      <td>movie</td>\n",
       "      <td>The Corbett-Fitzsimmons Fight</td>\n",
       "      <td>0</td>\n",
       "      <td>1897</td>\n",
       "      <td>100</td>\n",
       "      <td>Documentary,News,Sport</td>\n",
       "    </tr>\n",
       "    <tr>\n",
       "      <th>2</th>\n",
       "      <td>tt0000502</td>\n",
       "      <td>nm0215752,nm0252720</td>\n",
       "      <td></td>\n",
       "      <td></td>\n",
       "      <td>nm0063413</td>\n",
       "      <td>movie</td>\n",
       "      <td>Bohemios</td>\n",
       "      <td>0</td>\n",
       "      <td>1905</td>\n",
       "      <td>100</td>\n",
       "      <td></td>\n",
       "    </tr>\n",
       "    <tr>\n",
       "      <th>3</th>\n",
       "      <td>tt0000574</td>\n",
       "      <td>nm0846894,nm1431224,nm3002376</td>\n",
       "      <td>nm0846887</td>\n",
       "      <td>nm2421834</td>\n",
       "      <td>nm0846879</td>\n",
       "      <td>movie</td>\n",
       "      <td>The Story of the Kelly Gang</td>\n",
       "      <td>0</td>\n",
       "      <td>1906</td>\n",
       "      <td>70</td>\n",
       "      <td>Action,Adventure,Biography</td>\n",
       "    </tr>\n",
       "    <tr>\n",
       "      <th>4</th>\n",
       "      <td>tt0000591</td>\n",
       "      <td>nm0906197,nm0332182</td>\n",
       "      <td>nm1323543,nm1759558</td>\n",
       "      <td></td>\n",
       "      <td>nm0141150</td>\n",
       "      <td>movie</td>\n",
       "      <td>L'enfant prodigue</td>\n",
       "      <td>0</td>\n",
       "      <td>1907</td>\n",
       "      <td>90</td>\n",
       "      <td>Drama</td>\n",
       "    </tr>\n",
       "  </tbody>\n",
       "</table>\n",
       "</div>"
      ],
      "text/plain": [
       "      tconst                          actor              actress   composer  \\\n",
       "0  tt0000009            nm0183823,nm1309758            nm0063086              \n",
       "1  tt0000147                                                                  \n",
       "2  tt0000502            nm0215752,nm0252720                                   \n",
       "3  tt0000574  nm0846894,nm1431224,nm3002376            nm0846887  nm2421834   \n",
       "4  tt0000591            nm0906197,nm0332182  nm1323543,nm1759558              \n",
       "\n",
       "    director titleType                  originalTitle isAdult startYear  \\\n",
       "0  nm0085156     movie                     Miss Jerry       0      1894   \n",
       "1  nm0714557     movie  The Corbett-Fitzsimmons Fight       0      1897   \n",
       "2  nm0063413     movie                       Bohemios       0      1905   \n",
       "3  nm0846879     movie    The Story of the Kelly Gang       0      1906   \n",
       "4  nm0141150     movie              L'enfant prodigue       0      1907   \n",
       "\n",
       "  runtimeMinutes                      genres  \n",
       "0             45                     Romance  \n",
       "1            100      Documentary,News,Sport  \n",
       "2            100                              \n",
       "3             70  Action,Adventure,Biography  \n",
       "4             90                       Drama  "
      ]
     },
     "execution_count": 26,
     "metadata": {},
     "output_type": "execute_result"
    }
   ],
   "source": [
    "#Join des tables sur le tconst\n",
    "df_recommendation = pd.merge(principals, df_film, how='inner', left_on = 'tconst', right_on = 'tconst')\n",
    "df_recommendation.head(5)"
   ]
  },
  {
   "cell_type": "code",
   "execution_count": 27,
   "id": "0b48ad6c",
   "metadata": {},
   "outputs": [
    {
     "data": {
      "text/html": [
       "<div>\n",
       "<style scoped>\n",
       "    .dataframe tbody tr th:only-of-type {\n",
       "        vertical-align: middle;\n",
       "    }\n",
       "\n",
       "    .dataframe tbody tr th {\n",
       "        vertical-align: top;\n",
       "    }\n",
       "\n",
       "    .dataframe thead th {\n",
       "        text-align: right;\n",
       "    }\n",
       "</style>\n",
       "<table border=\"1\" class=\"dataframe\">\n",
       "  <thead>\n",
       "    <tr style=\"text-align: right;\">\n",
       "      <th></th>\n",
       "      <th>tconst</th>\n",
       "      <th>actor</th>\n",
       "      <th>actress</th>\n",
       "      <th>composer</th>\n",
       "      <th>director</th>\n",
       "      <th>titleType</th>\n",
       "      <th>originalTitle</th>\n",
       "      <th>isAdult</th>\n",
       "      <th>startYear</th>\n",
       "      <th>runtimeMinutes</th>\n",
       "      <th>genres</th>\n",
       "    </tr>\n",
       "  </thead>\n",
       "  <tbody>\n",
       "    <tr>\n",
       "      <th>0</th>\n",
       "      <td>tt0000009</td>\n",
       "      <td>nm0183823,nm1309758</td>\n",
       "      <td>nm0063086</td>\n",
       "      <td></td>\n",
       "      <td>nm0085156</td>\n",
       "      <td>movie</td>\n",
       "      <td>Miss Jerry</td>\n",
       "      <td>0</td>\n",
       "      <td>1894</td>\n",
       "      <td>45</td>\n",
       "      <td>Romance</td>\n",
       "    </tr>\n",
       "    <tr>\n",
       "      <th>1</th>\n",
       "      <td>tt0000147</td>\n",
       "      <td></td>\n",
       "      <td></td>\n",
       "      <td></td>\n",
       "      <td>nm0714557</td>\n",
       "      <td>movie</td>\n",
       "      <td>The Corbett-Fitzsimmons Fight</td>\n",
       "      <td>0</td>\n",
       "      <td>1897</td>\n",
       "      <td>100</td>\n",
       "      <td>Documentary,News,Sport</td>\n",
       "    </tr>\n",
       "    <tr>\n",
       "      <th>2</th>\n",
       "      <td>tt0000502</td>\n",
       "      <td>nm0215752,nm0252720</td>\n",
       "      <td></td>\n",
       "      <td></td>\n",
       "      <td>nm0063413</td>\n",
       "      <td>movie</td>\n",
       "      <td>Bohemios</td>\n",
       "      <td>0</td>\n",
       "      <td>1905</td>\n",
       "      <td>100</td>\n",
       "      <td></td>\n",
       "    </tr>\n",
       "    <tr>\n",
       "      <th>3</th>\n",
       "      <td>tt0000574</td>\n",
       "      <td>nm0846894,nm1431224,nm3002376</td>\n",
       "      <td>nm0846887</td>\n",
       "      <td>nm2421834</td>\n",
       "      <td>nm0846879</td>\n",
       "      <td>movie</td>\n",
       "      <td>The Story of the Kelly Gang</td>\n",
       "      <td>0</td>\n",
       "      <td>1906</td>\n",
       "      <td>70</td>\n",
       "      <td>Action,Adventure,Biography</td>\n",
       "    </tr>\n",
       "    <tr>\n",
       "      <th>4</th>\n",
       "      <td>tt0000591</td>\n",
       "      <td>nm0906197,nm0332182</td>\n",
       "      <td>nm1323543,nm1759558</td>\n",
       "      <td></td>\n",
       "      <td>nm0141150</td>\n",
       "      <td>movie</td>\n",
       "      <td>L'enfant prodigue</td>\n",
       "      <td>0</td>\n",
       "      <td>1907</td>\n",
       "      <td>90</td>\n",
       "      <td>Drama</td>\n",
       "    </tr>\n",
       "  </tbody>\n",
       "</table>\n",
       "</div>"
      ],
      "text/plain": [
       "      tconst                          actor              actress   composer  \\\n",
       "0  tt0000009            nm0183823,nm1309758            nm0063086              \n",
       "1  tt0000147                                                                  \n",
       "2  tt0000502            nm0215752,nm0252720                                   \n",
       "3  tt0000574  nm0846894,nm1431224,nm3002376            nm0846887  nm2421834   \n",
       "4  tt0000591            nm0906197,nm0332182  nm1323543,nm1759558              \n",
       "\n",
       "    director titleType                  originalTitle isAdult startYear  \\\n",
       "0  nm0085156     movie                     Miss Jerry       0      1894   \n",
       "1  nm0714557     movie  The Corbett-Fitzsimmons Fight       0      1897   \n",
       "2  nm0063413     movie                       Bohemios       0      1905   \n",
       "3  nm0846879     movie    The Story of the Kelly Gang       0      1906   \n",
       "4  nm0141150     movie              L'enfant prodigue       0      1907   \n",
       "\n",
       "  runtimeMinutes                      genres  \n",
       "0             45                     Romance  \n",
       "1            100      Documentary,News,Sport  \n",
       "2            100                              \n",
       "3             70  Action,Adventure,Biography  \n",
       "4             90                       Drama  "
      ]
     },
     "execution_count": 27,
     "metadata": {},
     "output_type": "execute_result"
    }
   ],
   "source": [
    "#replace \\N par ''\n",
    "df_recommendation.replace(\"\\\\N\", '', inplace=True)\n",
    "df_recommendation.head(5)"
   ]
  },
  {
   "cell_type": "code",
   "execution_count": 9,
   "id": "dc3261fe",
   "metadata": {},
   "outputs": [
    {
     "data": {
      "text/plain": [
       "(584899, 11)"
      ]
     },
     "execution_count": 9,
     "metadata": {},
     "output_type": "execute_result"
    }
   ],
   "source": [
    "#shape df_recommendation\n",
    "df_recommendation.shape"
   ]
  },
  {
   "cell_type": "code",
   "execution_count": 28,
   "id": "3ff712c1",
   "metadata": {},
   "outputs": [
    {
     "data": {
      "text/html": [
       "<div>\n",
       "<style scoped>\n",
       "    .dataframe tbody tr th:only-of-type {\n",
       "        vertical-align: middle;\n",
       "    }\n",
       "\n",
       "    .dataframe tbody tr th {\n",
       "        vertical-align: top;\n",
       "    }\n",
       "\n",
       "    .dataframe thead th {\n",
       "        text-align: right;\n",
       "    }\n",
       "</style>\n",
       "<table border=\"1\" class=\"dataframe\">\n",
       "  <thead>\n",
       "    <tr style=\"text-align: right;\">\n",
       "      <th></th>\n",
       "      <th>tconst</th>\n",
       "      <th>actor</th>\n",
       "      <th>actress</th>\n",
       "      <th>composer</th>\n",
       "      <th>director</th>\n",
       "      <th>titleType</th>\n",
       "      <th>isAdult</th>\n",
       "      <th>startYear</th>\n",
       "      <th>runtimeMinutes</th>\n",
       "      <th>genres</th>\n",
       "      <th>reco_vector</th>\n",
       "    </tr>\n",
       "  </thead>\n",
       "  <tbody>\n",
       "    <tr>\n",
       "      <th>0</th>\n",
       "      <td>tt0000009</td>\n",
       "      <td>nm0183823,nm1309758</td>\n",
       "      <td>nm0063086</td>\n",
       "      <td></td>\n",
       "      <td>nm0085156</td>\n",
       "      <td>movie</td>\n",
       "      <td>0</td>\n",
       "      <td>1894</td>\n",
       "      <td>45</td>\n",
       "      <td>Romance</td>\n",
       "      <td>nm0183823,nm1309758 nm0063086  nm0085156 movie...</td>\n",
       "    </tr>\n",
       "    <tr>\n",
       "      <th>1</th>\n",
       "      <td>tt0000147</td>\n",
       "      <td></td>\n",
       "      <td></td>\n",
       "      <td></td>\n",
       "      <td>nm0714557</td>\n",
       "      <td>movie</td>\n",
       "      <td>0</td>\n",
       "      <td>1897</td>\n",
       "      <td>100</td>\n",
       "      <td>Documentary,News,Sport</td>\n",
       "      <td>nm0714557 movie 0 1897 100 Documentary,News...</td>\n",
       "    </tr>\n",
       "    <tr>\n",
       "      <th>2</th>\n",
       "      <td>tt0000502</td>\n",
       "      <td>nm0215752,nm0252720</td>\n",
       "      <td></td>\n",
       "      <td></td>\n",
       "      <td>nm0063413</td>\n",
       "      <td>movie</td>\n",
       "      <td>0</td>\n",
       "      <td>1905</td>\n",
       "      <td>100</td>\n",
       "      <td></td>\n",
       "      <td>nm0215752,nm0252720   nm0063413 movie 0 1905 100</td>\n",
       "    </tr>\n",
       "    <tr>\n",
       "      <th>3</th>\n",
       "      <td>tt0000574</td>\n",
       "      <td>nm0846894,nm1431224,nm3002376</td>\n",
       "      <td>nm0846887</td>\n",
       "      <td>nm2421834</td>\n",
       "      <td>nm0846879</td>\n",
       "      <td>movie</td>\n",
       "      <td>0</td>\n",
       "      <td>1906</td>\n",
       "      <td>70</td>\n",
       "      <td>Action,Adventure,Biography</td>\n",
       "      <td>nm0846894,nm1431224,nm3002376 nm0846887 nm2421...</td>\n",
       "    </tr>\n",
       "    <tr>\n",
       "      <th>4</th>\n",
       "      <td>tt0000591</td>\n",
       "      <td>nm0906197,nm0332182</td>\n",
       "      <td>nm1323543,nm1759558</td>\n",
       "      <td></td>\n",
       "      <td>nm0141150</td>\n",
       "      <td>movie</td>\n",
       "      <td>0</td>\n",
       "      <td>1907</td>\n",
       "      <td>90</td>\n",
       "      <td>Drama</td>\n",
       "      <td>nm0906197,nm0332182 nm1323543,nm1759558  nm014...</td>\n",
       "    </tr>\n",
       "  </tbody>\n",
       "</table>\n",
       "</div>"
      ],
      "text/plain": [
       "      tconst                          actor              actress   composer  \\\n",
       "0  tt0000009            nm0183823,nm1309758            nm0063086              \n",
       "1  tt0000147                                                                  \n",
       "2  tt0000502            nm0215752,nm0252720                                   \n",
       "3  tt0000574  nm0846894,nm1431224,nm3002376            nm0846887  nm2421834   \n",
       "4  tt0000591            nm0906197,nm0332182  nm1323543,nm1759558              \n",
       "\n",
       "    director titleType isAdult startYear runtimeMinutes  \\\n",
       "0  nm0085156     movie       0      1894             45   \n",
       "1  nm0714557     movie       0      1897            100   \n",
       "2  nm0063413     movie       0      1905            100   \n",
       "3  nm0846879     movie       0      1906             70   \n",
       "4  nm0141150     movie       0      1907             90   \n",
       "\n",
       "                       genres  \\\n",
       "0                     Romance   \n",
       "1      Documentary,News,Sport   \n",
       "2                               \n",
       "3  Action,Adventure,Biography   \n",
       "4                       Drama   \n",
       "\n",
       "                                         reco_vector  \n",
       "0  nm0183823,nm1309758 nm0063086  nm0085156 movie...  \n",
       "1     nm0714557 movie 0 1897 100 Documentary,News...  \n",
       "2  nm0215752,nm0252720   nm0063413 movie 0 1905 100   \n",
       "3  nm0846894,nm1431224,nm3002376 nm0846887 nm2421...  \n",
       "4  nm0906197,nm0332182 nm1323543,nm1759558  nm014...  "
      ]
     },
     "execution_count": 28,
     "metadata": {},
     "output_type": "execute_result"
    }
   ],
   "source": [
    "#Ajout du ratting et numVote\n",
    "recommendation=df_recommendation.drop(['originalTitle'], axis=1)\n",
    "recommendation['reco_vector'] = recommendation.iloc[:, 1:].apply(' '.join, axis=1)\n",
    "recommendation.head(5)"
   ]
  },
  {
   "cell_type": "code",
   "execution_count": 29,
   "id": "7bef76d7",
   "metadata": {},
   "outputs": [
    {
     "data": {
      "text/html": [
       "<div>\n",
       "<style scoped>\n",
       "    .dataframe tbody tr th:only-of-type {\n",
       "        vertical-align: middle;\n",
       "    }\n",
       "\n",
       "    .dataframe tbody tr th {\n",
       "        vertical-align: top;\n",
       "    }\n",
       "\n",
       "    .dataframe thead th {\n",
       "        text-align: right;\n",
       "    }\n",
       "</style>\n",
       "<table border=\"1\" class=\"dataframe\">\n",
       "  <thead>\n",
       "    <tr style=\"text-align: right;\">\n",
       "      <th></th>\n",
       "      <th>tconst</th>\n",
       "      <th>reco_vector</th>\n",
       "      <th>originalTitle</th>\n",
       "    </tr>\n",
       "  </thead>\n",
       "  <tbody>\n",
       "    <tr>\n",
       "      <th>0</th>\n",
       "      <td>tt0000009</td>\n",
       "      <td>nm0183823,nm1309758 nm0063086  nm0085156 movie...</td>\n",
       "      <td>Miss Jerry</td>\n",
       "    </tr>\n",
       "    <tr>\n",
       "      <th>1</th>\n",
       "      <td>tt0000147</td>\n",
       "      <td>nm0714557 movie 0 1897 100 Documentary,News...</td>\n",
       "      <td>The Corbett-Fitzsimmons Fight</td>\n",
       "    </tr>\n",
       "    <tr>\n",
       "      <th>2</th>\n",
       "      <td>tt0000502</td>\n",
       "      <td>nm0215752,nm0252720   nm0063413 movie 0 1905 100</td>\n",
       "      <td>Bohemios</td>\n",
       "    </tr>\n",
       "  </tbody>\n",
       "</table>\n",
       "</div>"
      ],
      "text/plain": [
       "      tconst                                        reco_vector  \\\n",
       "0  tt0000009  nm0183823,nm1309758 nm0063086  nm0085156 movie...   \n",
       "1  tt0000147     nm0714557 movie 0 1897 100 Documentary,News...   \n",
       "2  tt0000502  nm0215752,nm0252720   nm0063413 movie 0 1905 100    \n",
       "\n",
       "                   originalTitle  \n",
       "0                     Miss Jerry  \n",
       "1  The Corbett-Fitzsimmons Fight  \n",
       "2                       Bohemios  "
      ]
     },
     "execution_count": 29,
     "metadata": {},
     "output_type": "execute_result"
    }
   ],
   "source": [
    "#on ajoute le nom du film\n",
    "recommendation = recommendation.join(df_recommendation['originalTitle'])\n",
    "recommendation.drop(columns=['actor',\t'actress',\t'composer',\t'director',\t'titleType',\t'isAdult',\t'startYear',\t'runtimeMinutes',\t'genres'], axis=1, inplace=True)\n",
    "recommendation.head(3)"
   ]
  },
  {
   "cell_type": "markdown",
   "id": "e6ac24d2",
   "metadata": {},
   "source": []
  },
  {
   "cell_type": "code",
   "execution_count": 30,
   "id": "0896807c",
   "metadata": {},
   "outputs": [],
   "source": [
    "# Import des librairies\n",
    "from sklearn.feature_extraction.text import CountVectorizer\n",
    "from sklearn.metrics.pairwise import cosine_similarity"
   ]
  },
  {
   "cell_type": "code",
   "execution_count": 42,
   "id": "095af0e5",
   "metadata": {},
   "outputs": [],
   "source": [
    "# Déclaration de la méthode de vectorisation et application cv = CountVectorizer() test avec 100 film\n",
    "count_matrix = cv.fit_transform(recommendation['reco_vector'].iloc[:100])"
   ]
  },
  {
   "cell_type": "code",
   "execution_count": 44,
   "id": "1157c081",
   "metadata": {},
   "outputs": [
    {
     "data": {
      "text/plain": [
       "<100x291 sparse matrix of type '<class 'numpy.int64'>'\n",
       "\twith 609 stored elements in Compressed Sparse Row format>"
      ]
     },
     "execution_count": 44,
     "metadata": {},
     "output_type": "execute_result"
    }
   ],
   "source": [
    "count_matrix"
   ]
  },
  {
   "cell_type": "code",
   "execution_count": 17,
   "id": "364434b0",
   "metadata": {},
   "outputs": [],
   "source": [
    "# Calcul des similarités\n",
    "cosine_sim = cosine_similarity(count_matrix)"
   ]
  },
  {
   "cell_type": "code",
   "execution_count": 18,
   "id": "8d50cdef",
   "metadata": {},
   "outputs": [
    {
     "data": {
      "text/plain": [
       "(100, 100)"
      ]
     },
     "execution_count": 18,
     "metadata": {},
     "output_type": "execute_result"
    }
   ],
   "source": [
    "cosine_sim.shape"
   ]
  },
  {
   "cell_type": "code",
   "execution_count": 46,
   "id": "cbffe891",
   "metadata": {},
   "outputs": [
    {
     "data": {
      "text/plain": [
       "array([[0.10206207],\n",
       "       [0.10910895],\n",
       "       [0.11785113],\n",
       "       ...,\n",
       "       [0.09622504],\n",
       "       [0.10206207],\n",
       "       [0.11785113]])"
      ]
     },
     "execution_count": 46,
     "metadata": {},
     "output_type": "execute_result"
    }
   ],
   "source": [
    "cosine_sim"
   ]
  },
  {
   "cell_type": "code",
   "execution_count": 47,
   "id": "5a9036c9",
   "metadata": {},
   "outputs": [],
   "source": [
    "#fonction qui retrouve le titre du film en fonction de l'index\n",
    "def find_title_from_index(index):\n",
    "  return recommendation[recommendation.index == index][\"originalTitle\"].values[0]\n",
    "#fonction qui retrouve l'index du film en fonction du titre\n",
    "def find_index_from_title(title):\n",
    "  return recommendation[recommendation.originalTitle == title].index.values[0]"
   ]
  },
  {
   "cell_type": "code",
   "execution_count": 119,
   "id": "0246ff88",
   "metadata": {},
   "outputs": [
    {
     "data": {
      "text/plain": [
       "81980"
      ]
     },
     "execution_count": 119,
     "metadata": {},
     "output_type": "execute_result"
    }
   ],
   "source": [
    "movie = \"Star Wars: Episode I - The Phantom Menace\"\n",
    "movie_index= find_index_from_title(movie)\n",
    "movie_index"
   ]
  },
  {
   "cell_type": "code",
   "execution_count": 120,
   "id": "eee27d81",
   "metadata": {},
   "outputs": [],
   "source": [
    "# Déclaration de la méthode de vectorisation et application\n",
    "cv = CountVectorizer()\n",
    "count_matrix = cv.fit_transform(recommendation['reco_vector'])"
   ]
  },
  {
   "cell_type": "code",
   "execution_count": 121,
   "id": "a6af39b8",
   "metadata": {},
   "outputs": [
    {
     "data": {
      "text/plain": [
       "<1x992690 sparse matrix of type '<class 'numpy.int64'>'\n",
       "\twith 12 stored elements in Compressed Sparse Row format>"
      ]
     },
     "execution_count": 121,
     "metadata": {},
     "output_type": "execute_result"
    }
   ],
   "source": [
    "count_matrix[movie_index]"
   ]
  },
  {
   "cell_type": "code",
   "execution_count": 122,
   "id": "ff0847e1",
   "metadata": {},
   "outputs": [],
   "source": [
    "# Calcul des similarités uniquement pour le film en question pour limiter la taille de la matrice\n",
    "cosine_sim = cosine_similarity(count_matrix, Y= count_matrix[movie_index])"
   ]
  },
  {
   "cell_type": "code",
   "execution_count": 123,
   "id": "027d4cfc",
   "metadata": {},
   "outputs": [
    {
     "data": {
      "text/plain": [
       "(584899, 1)"
      ]
     },
     "execution_count": 123,
     "metadata": {},
     "output_type": "execute_result"
    }
   ],
   "source": [
    "cosine_sim.shape"
   ]
  },
  {
   "cell_type": "code",
   "execution_count": 124,
   "id": "5dcc091a",
   "metadata": {},
   "outputs": [
    {
     "data": {
      "text/plain": [
       "array([0.5])"
      ]
     },
     "execution_count": 124,
     "metadata": {},
     "output_type": "execute_result"
    }
   ],
   "source": [
    "cosine_sim[55008]"
   ]
  },
  {
   "cell_type": "code",
   "execution_count": 125,
   "id": "0c9b0c87",
   "metadata": {},
   "outputs": [],
   "source": [
    "#choper les index et les coefficients de similarité cos\n",
    "similar_movies = list(enumerate(cosine_sim))"
   ]
  },
  {
   "cell_type": "code",
   "execution_count": 126,
   "id": "7d6164ca",
   "metadata": {},
   "outputs": [
    {
     "data": {
      "text/plain": [
       "[(82357, array([0.66666667])),\n",
       " (82356, array([0.6092718])),\n",
       " (204579, array([0.51639778])),\n",
       " (224920, array([0.51639778])),\n",
       " (225164, array([0.51639778]))]"
      ]
     },
     "execution_count": 126,
     "metadata": {},
     "output_type": "execute_result"
    }
   ],
   "source": [
    "#tri des film similaires\n",
    "sorted_similar_movies = sorted(similar_movies, key=lambda x:x[1], reverse=True)[1:6]\n",
    "sorted_similar_movies"
   ]
  },
  {
   "cell_type": "code",
   "execution_count": 127,
   "id": "45f92439",
   "metadata": {},
   "outputs": [
    {
     "name": "stdout",
     "output_type": "stream",
     "text": [
      "Star Wars: Episode III - Revenge of the Sith\n",
      "Star Wars: Episode II - Attack of the Clones\n",
      "Voltron\n",
      "Tomb Raider 2\n",
      "The God Gene\n"
     ]
    }
   ],
   "source": [
    "# nous avons les index plus qu'a retrouver les titres de films\n",
    "for id_film in sorted_similar_movies:\n",
    "  print(find_title_from_index(id_film[0]))"
   ]
  },
  {
   "cell_type": "code",
   "execution_count": null,
   "id": "8ee6b5ac",
   "metadata": {},
   "outputs": [],
   "source": []
  }
 ],
 "metadata": {
  "kernelspec": {
   "display_name": "Python 3 (ipykernel)",
   "language": "python",
   "name": "python3"
  },
  "language_info": {
   "codemirror_mode": {
    "name": "ipython",
    "version": 3
   },
   "file_extension": ".py",
   "mimetype": "text/x-python",
   "name": "python",
   "nbconvert_exporter": "python",
   "pygments_lexer": "ipython3",
   "version": "3.8.15"
  }
 },
 "nbformat": 4,
 "nbformat_minor": 5
}
